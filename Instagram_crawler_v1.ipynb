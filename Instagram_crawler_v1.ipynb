{
 "cells": [
  {
   "cell_type": "code",
   "execution_count": 88,
   "metadata": {},
   "outputs": [],
   "source": [
    "from selenium import webdriver as wb\n",
    "from selenium.webdriver.common.keys import Keys\n",
    "import time\n",
    "import os\n",
    "from urllib.request import urlretrieve\n",
    "import re\n",
    "from selenium.webdriver.common.by import By\n",
    "import pandas as pd"
   ]
  },
  {
   "cell_type": "code",
   "execution_count": 91,
   "metadata": {},
   "outputs": [],
   "source": [
    "driver = wb.Chrome()\n",
    "driver.get(\"https://www.instagram.com/\")"
   ]
  },
  {
   "cell_type": "code",
   "execution_count": 93,
   "metadata": {},
   "outputs": [],
   "source": [
    "# ID\n",
    "input_id = driver.find_element(\n",
    "    By.CSS_SELECTOR, \"#loginForm > div > div:nth-child(1) > div > label > input\"\n",
    ")\n",
    "input_id.send_keys(\"your id here\")"
   ]
  },
  {
   "cell_type": "code",
   "execution_count": 94,
   "metadata": {},
   "outputs": [],
   "source": [
    "# PW\n",
    "input_pw = driver.find_element(\n",
    "    By.CSS_SELECTOR, \"#loginForm > div > div:nth-child(2) > div > label > input\"\n",
    ")\n",
    "input_pw.send_keys(\"your pw here\")"
   ]
  },
  {
   "cell_type": "code",
   "execution_count": 95,
   "metadata": {},
   "outputs": [],
   "source": [
    "# log in btn click\n",
    "login_btn = driver.find_element(\n",
    "    By.CSS_SELECTOR, \"#loginForm > div > div:nth-child(3) > button > div\"\n",
    ")\n",
    "login_btn.click()"
   ]
  },
  {
   "cell_type": "code",
   "execution_count": 98,
   "metadata": {},
   "outputs": [],
   "source": [
    "# save log in btn click\n",
    "save_login_btn = driver.find_element(By.CSS_SELECTOR, \".x78zum5.xdt5ytf.x1e56ztr\")\n",
    "save_login_btn.click()"
   ]
  },
  {
   "cell_type": "code",
   "execution_count": 99,
   "metadata": {},
   "outputs": [],
   "source": [
    "# alert msg click\n",
    "notice_btn = driver.find_element(\n",
    "    By.CSS_SELECTOR,\n",
    "    \"body > div.xnkg4db.x1pna77i.x13ywhbb.x1xkblxv.x1n2onr6.xzkaem6 > div.x9f619.x1n2onr6.x1ja2u2z > div > div.x1uvtmcs.x4k7w5x.x1h91t0o.x1beo9mf.xaigb6o.x12ejxvf.x3igimt.xarpa2k.xedcshv.x1lytzrv.x1t2pt76.x7ja8zs.x1n2onr6.x1qrby5j.x1jfb8zj > div > div > div > div > div.x7r02ix.xf1ldfh.x131esax.xdajt7p.xxfnqb6.xb88tzc.xw2csxc.x1odjw0f.x5fp0pe > div > div > div._a9-z > button._a9--._ap36._a9_1\",\n",
    ")\n",
    "notice_btn.click()"
   ]
  },
  {
   "cell_type": "code",
   "execution_count": 44,
   "metadata": {},
   "outputs": [],
   "source": [
    "# search bar sellect\n",
    "\n",
    "search_click = driver.find_element(\n",
    "    By.CSS_SELECTOR,\n",
    "    \"#mount_0_0_V4 > div > div > div > div.x9f619.x1n2onr6.x1ja2u2z > div > div > div.x78zum5.xdt5ytf.x1t2pt76.x1n2onr6.x1ja2u2z.x10cihs4 > div.x9f619.xvbhtw8.x78zum5.x168nmei.x13lgxp2.x5pf9jr.xo71vjh.x1uhb9sk.x1plvlek.xryxfnj.x1c4vz4f.x2lah0s.xdt5ytf.xqjyukv.x1qjc9v5.x1oa3qoh.x1qughib > div.x1gryazu.xh8yej3.x10o80wk.x14k21rp.x17snn68.x6osk4m.x1porb0y.x8vgawa > section > nav > div > header > div > div > div.xq8finb > div > div > div > div > div > div\",\n",
    ")\n",
    "search_click.click()"
   ]
  },
  {
   "cell_type": "code",
   "execution_count": 46,
   "metadata": {},
   "outputs": [],
   "source": [
    "# input the keyword or profile id\n",
    "search_input = driver.find_element(\n",
    "    By.CSS_SELECTOR,\n",
    "    \"#mount_0_0_V4 > div > div > div > div.x9f619.x1n2onr6.x1ja2u2z > div > div > div.x78zum5.xdt5ytf.x1t2pt76.x1n2onr6.x1ja2u2z.x10cihs4 > div.x9f619.xvbhtw8.x78zum5.x168nmei.x13lgxp2.x5pf9jr.xo71vjh.x1uhb9sk.x1plvlek.xryxfnj.x1c4vz4f.x2lah0s.xdt5ytf.xqjyukv.x1qjc9v5.x1oa3qoh.x1qughib > div.x1gryazu.xh8yej3.x10o80wk.x14k21rp.x17snn68.x6osk4m.x1porb0y.x8vgawa > section > nav > div > header > div > div > div.xq8finb > div > div > div > div > div > input\",\n",
    ")\n",
    "search_input.send_keys(\"key word here\")"
   ]
  },
  {
   "cell_type": "code",
   "execution_count": 48,
   "metadata": {},
   "outputs": [],
   "source": [
    "# top keyword result click\n",
    "search_result = driver.find_element(\n",
    "    By.CSS_SELECTOR,\n",
    "    \"#mount_0_0_V4 > div > div > div > div.x9f619.x1n2onr6.x1ja2u2z > div > div > div.x78zum5.xdt5ytf.x1t2pt76.x1n2onr6.x1ja2u2z.x10cihs4 > div.x9f619.xvbhtw8.x78zum5.x168nmei.x13lgxp2.x5pf9jr.xo71vjh.x1uhb9sk.x1plvlek.xryxfnj.x1c4vz4f.x2lah0s.xdt5ytf.xqjyukv.x1qjc9v5.x1oa3qoh.x1qughib > div.x1gryazu.xh8yej3.x10o80wk.x14k21rp.x17snn68.x6osk4m.x1porb0y.x8vgawa > section > nav > div > header > div > div > div.xq8finb > div > div > div > div > div > div.x10l6tqk.x1ym02ve.x1vjfegm > div > div > div > div > div > div > a:nth-child(1) > div.x9f619.xjbqb8w.x78zum5.x168nmei.x13lgxp2.x5pf9jr.xo71vjh.x1pi30zi.x1swvt13.xwib8y2.x1y1aw1k.x1uhb9sk.x1plvlek.xryxfnj.x1c4vz4f.x2lah0s.xdt5ytf.xqjyukv.x1qjc9v5.x1oa3qoh.x1nhvcw1 > div > div > div.x9f619.x1ja2u2z.x78zum5.x1n2onr6.x1iyjqo2.xs83m0k.xeuugli.x1qughib.x6s0dn4.x1a02dak.x1q0g3np.xdl72j9 > div > div > div > span\",\n",
    ")\n",
    "search_result.click()"
   ]
  },
  {
   "cell_type": "markdown",
   "metadata": {},
   "source": [
    "# crwalling follower list"
   ]
  },
  {
   "cell_type": "code",
   "execution_count": 49,
   "metadata": {},
   "outputs": [],
   "source": [
    "# follower btn click\n",
    "follow_btn = driver.find_element(\n",
    "\n",
    "    By.CSS_SELECTOR,\n",
    "\n",
    "    \"#mount_0_0_V4 > div > div > div > div.x9f619.x1n2onr6.x1ja2u2z > div > div > div.x78zum5.xdt5ytf.x1t2pt76.x1n2onr6.x1ja2u2z.x10cihs4 > div:nth-child(2) > div > div.x1gryazu.xh8yej3.x10o80wk.x14k21rp.x17snn68.x6osk4m.x1porb0y.x8vgawa > section > main > div > header > section.xc3tme8.x1uhmqq1.x1xdureb.x18z9r2k.x13vxnyz > ul > li:nth-child(2) > div > a\",\n",
    "\n",
    ")\n",
    "\n",
    "follow_btn.click()"
   ]
  },
  {
   "cell_type": "code",
   "execution_count": null,
   "metadata": {},
   "outputs": [],
   "source": [
    "# follower list\n",
    "flist = driver.find_elements(\n",
    "\n",
    "    By.CSS_SELECTOR,\n",
    "\n",
    "    \"body > div.xnkg4db.x1pna77i.x13ywhbb.x1xkblxv.x1n2onr6.xzkaem6 > div:nth-child(2) > div > div > div.x9f619.x1n2onr6.x1ja2u2z > div > div.x1uvtmcs.x4k7w5x.x1h91t0o.x1beo9mf.xaigb6o.x12ejxvf.x3igimt.xarpa2k.xedcshv.x1lytzrv.x1t2pt76.x7ja8zs.x1n2onr6.x1qrby5j.x1jfb8zj > div > div > div > div > div.x7r02ix.xf1ldfh.x131esax.xdajt7p.xxfnqb6.xb88tzc.xw2csxc.x1odjw0f.x5fp0pe > div > div > div.xyi19xy.x1ccrb07.xtf3nb5.x1pc53ja.x1lliihq.x1iyjqo2.xs83m0k.xz65tgg.x1rife3k.x1n2onr6 > div:nth-child(1) > div > div> div > div > div > div.x9f619.x1ja2u2z.x78zum5.x1n2onr6.x1iyjqo2.xs83m0k.xeuugli.x1qughib.x6s0dn4.x1a02dak.x1q0g3np.xdl72j9 > div > div > div > div > div > a > div > div > span\",\n",
    "\n",
    ")\n",
    "\n",
    "flist[1].text"
   ]
  },
  {
   "cell_type": "code",
   "execution_count": 53,
   "metadata": {},
   "outputs": [],
   "source": [
    "# Scroll Bar move for gathering all followers\n",
    "body = driver.find_element(By.CSS_SELECTOR, \"body\")\n",
    "try:\n",
    "    for i in range(100):\n",
    "        body.send_keys(Keys.END)\n",
    "        time.sleep(0.5)\n",
    "except:\n",
    "    print(\"complete to move scroll bar\")"
   ]
  },
  {
   "cell_type": "code",
   "execution_count": null,
   "metadata": {},
   "outputs": [],
   "source": [
    "# img crawlling\n",
    "img = driver.find_elements(By.CSS_SELECTOR, \"div._aagv > img\")\n",
    "len(img)"
   ]
  },
  {
   "cell_type": "code",
   "execution_count": 59,
   "metadata": {},
   "outputs": [],
   "source": [
    "# save image\n",
    "for i in range(len(img)):\n",
    "    urlretrieve(\n",
    "        img[i].get_attribute(\"src\"),\n",
    "        \"your path here\" + str(i) + \".jpg\",\n",
    "    )\n",
    "    time.sleep(0.5)"
   ]
  },
  {
   "cell_type": "markdown",
   "metadata": {},
   "source": [
    "# article crawlling from the feed\n",
    "- class를 selector로 가져올 때에는 구분자 '.'를 맨 처음과 중간 스페이스에 다 넣어줘야 한다."
   ]
  },
  {
   "cell_type": "code",
   "execution_count": 66,
   "metadata": {},
   "outputs": [],
   "source": [
    "# click the feeds\n",
    "click_img = driver.find_element(\n",
    "    By.CSS_SELECTOR,\n",
    "    \".x1lliihq.x1n2onr6.xh8yej3.x4gyw5p.xfllauq.xo2y696.x11i5rnm.x2pgyrj\",\n",
    ")\n",
    "click_img.click()"
   ]
  },
  {
   "cell_type": "code",
   "execution_count": null,
   "metadata": {},
   "outputs": [],
   "source": [
    "# crawlling the article on feed\n",
    "content = driver.find_element(\n",
    "    By.CSS_SELECTOR,\n",
    "    \"body > div.xnkg4db.x1pna77i.x13ywhbb.x1xkblxv.x1n2onr6.xzkaem6 > div.x9f619.x1n2onr6.x1ja2u2z > div > div.x1uvtmcs.x4k7w5x.x1h91t0o.x1beo9mf.xaigb6o.x12ejxvf.x3igimt.xarpa2k.xedcshv.x1lytzrv.x1t2pt76.x7ja8zs.x1n2onr6.x1qrby5j.x1jfb8zj > div > div > div > div > div.xb88tzc.xw2csxc.x1odjw0f.x5fp0pe.x1qjc9v5.xjbqb8w.x1lcm9me.x1yr5g0i.xrt01vj.x10y3i5r.xr1yuqi.xkrivgy.x4ii5y1.x1gryazu.x15h9jz8.x47corl.xh8yej3.xir0mxb.x1juhsu6 > div > article > div > div.x1qjc9v5.x972fbf.xcfux6l.x1qhh985.xm0m39n.x9f619.x78zum5.xdt5ytf.x1iyjqo2.x5wqa0o.xln7xf2.xk390pu.xdj266r.x11i5rnm.xat24cr.x1mh8g0r.x65f84u.x1vq45kp.xexx8yu.x4uap5.x18d9i69.xkhd6sd.x1n2onr6.x11njtxf > div > div > div.x78zum5.xdt5ytf.x1q2y9iw.x1n2onr6.xh8yej3.x9f619.x1iyjqo2.x18l3tf1.x26u7qi.xy80clv.xexx8yu.x4uap5.x18d9i69.xkhd6sd > div.x78zum5.xdt5ytf.x1iyjqo2.xs83m0k.x2lwn1j.x1odjw0f.x1n2onr6.x9ek82g.x6ikm8r.xdj266r.x11i5rnm.x4ii5y1.x1mh8g0r.xexx8yu.x1pi30zi.x18d9i69.x1swvt13 > ul > div.x1qjc9v5.x972fbf.xcfux6l.x1qhh985.xm0m39n.x9f619.x78zum5.xdt5ytf.x2lah0s.xk390pu.xdj266r.x11i5rnm.xat24cr.x1mh8g0r.xexx8yu.x4uap5.x18d9i69.xkhd6sd.x1n2onr6.xggy1nq.x11njtxf > li > div > div > div._a9zr > div._a9zs\",\n",
    ")\n",
    "content.text"
   ]
  },
  {
   "cell_type": "markdown",
   "metadata": {},
   "source": [
    "# crawllnig hastag"
   ]
  },
  {
   "cell_type": "code",
   "execution_count": null,
   "metadata": {},
   "outputs": [],
   "source": [
    "# 해시태그들만 따로 수집\n",
    "hash_list = re.findall(\"#[A-Za-z0-9가-힣]+\", content.text)"
   ]
  },
  {
   "cell_type": "markdown",
   "metadata": {},
   "source": [
    "# next btn click for moving next page"
   ]
  },
  {
   "cell_type": "code",
   "execution_count": 74,
   "metadata": {},
   "outputs": [],
   "source": [
    "# next_btn just for the first feed\n",
    "next_btn = driver.find_element(\n",
    "    By.CSS_SELECTOR,\n",
    "    \"body > div.xnkg4db.x1pna77i.x13ywhbb.x1xkblxv.x1n2onr6.xzkaem6 > div.x9f619.x1n2onr6.x1ja2u2z > div > div.x1uvtmcs.x4k7w5x.x1h91t0o.x1beo9mf.xaigb6o.x12ejxvf.x3igimt.xarpa2k.xedcshv.x1lytzrv.x1t2pt76.x7ja8zs.x1n2onr6.x1qrby5j.x1jfb8zj > div > div > div > div > div:nth-child(1) > div > div > div > button\",\n",
    ")\n",
    "next_btn.click()"
   ]
  },
  {
   "cell_type": "code",
   "execution_count": 77,
   "metadata": {},
   "outputs": [],
   "source": [
    "# next_btn for the moving page from 2nd feed\n",
    "next2_btn = driver.find_element(\n",
    "    By.CSS_SELECTOR,\n",
    "    \"body > div.xnkg4db.x1pna77i.x13ywhbb.x1xkblxv.x1n2onr6.xzkaem6 > div.x9f619.x1n2onr6.x1ja2u2z > div > div.x1uvtmcs.x4k7w5x.x1h91t0o.x1beo9mf.xaigb6o.x12ejxvf.x3igimt.xarpa2k.xedcshv.x1lytzrv.x1t2pt76.x7ja8zs.x1n2onr6.x1qrby5j.x1jfb8zj > div > div > div > div > div:nth-child(1) > div > div > div._aaqg._aaqh > button\",\n",
    ")\n",
    "next2_btn.click()"
   ]
  },
  {
   "cell_type": "markdown",
   "metadata": {},
   "source": [
    "# search for the hashtag"
   ]
  },
  {
   "cell_type": "code",
   "execution_count": 106,
   "metadata": {},
   "outputs": [],
   "source": [
    "# 검색버튼의 위치를 클릭\n",
    "\n",
    "search_click = driver.find_element(\n",
    "    By.CSS_SELECTOR,\n",
    "    \"#mount_0_0_3Q > div > div > div > div.x9f619.x1n2onr6.x1ja2u2z > div > div > div.x78zum5.xdt5ytf.x1t2pt76.x1n2onr6.x1ja2u2z.x10cihs4 > div.x9f619.xvbhtw8.x78zum5.x168nmei.x13lgxp2.x5pf9jr.xo71vjh.x1uhb9sk.x1plvlek.xryxfnj.x1c4vz4f.x2lah0s.xdt5ytf.xqjyukv.x1qjc9v5.x1oa3qoh.x1qughib > div.x1gryazu.xh8yej3.x10o80wk.x14k21rp.x17snn68.x6osk4m.x1porb0y.x8vgawa > section > nav > div > header > div > div > div.xq8finb > div > div > div > div > div > input\",\n",
    ")\n",
    "search_click.click()"
   ]
  },
  {
   "cell_type": "code",
   "execution_count": 108,
   "metadata": {},
   "outputs": [],
   "source": [
    "# 검색창에 비비드몽타주 입력\n",
    "search_input = driver.find_element(\n",
    "    By.CSS_SELECTOR,\n",
    "    \"#mount_0_0_3Q > div > div > div > div.x9f619.x1n2onr6.x1ja2u2z > div > div > div.x78zum5.xdt5ytf.x1t2pt76.x1n2onr6.x1ja2u2z.x10cihs4 > div.x9f619.xvbhtw8.x78zum5.x168nmei.x13lgxp2.x5pf9jr.xo71vjh.x1uhb9sk.x1plvlek.xryxfnj.x1c4vz4f.x2lah0s.xdt5ytf.xqjyukv.x1qjc9v5.x1oa3qoh.x1qughib > div.x1gryazu.xh8yej3.x10o80wk.x14k21rp.x17snn68.x6osk4m.x1porb0y.x8vgawa > section > nav > div > header > div > div > div.xq8finb > div > div > div > div > div > input\",\n",
    ")\n",
    "search_input.send_keys(\"#비비드몽타주\")"
   ]
  },
  {
   "cell_type": "code",
   "execution_count": 110,
   "metadata": {},
   "outputs": [],
   "source": [
    "# 검색 상단에 등장한 내용을 클릭\n",
    "search_result = driver.find_element(\n",
    "    By.CSS_SELECTOR, \".x1lliihq.x193iq5w.x6ikm8r.x10wlt62.xlyipyv.xuxw1ft\"\n",
    ")\n",
    "search_result.click()"
   ]
  },
  {
   "cell_type": "code",
   "execution_count": null,
   "metadata": {},
   "outputs": [],
   "source": [
    "# Scroll Bar 동작하여 모든 팔로우 업로드 시킨후 수집\n",
    "body = driver.find_element(By.CSS_SELECTOR, \"body\")\n",
    "try:\n",
    "    for i in range(100):\n",
    "        body.send_keys(Keys.END)\n",
    "        time.sleep(0.5)\n",
    "except:\n",
    "    print(\"스크롤완료\")"
   ]
  },
  {
   "cell_type": "code",
   "execution_count": null,
   "metadata": {},
   "outputs": [],
   "source": [
    "# 인스타 이미지 데이터 수집\n",
    "img = driver.find_elements(By.CSS_SELECTOR, \"div._aagv > img\")\n",
    "len(img)"
   ]
  },
  {
   "cell_type": "markdown",
   "metadata": {},
   "source": [
    "# 피드에 있는 글정보 수집\n",
    "- 피드 클릭\n",
    "- 피드 글 수집\n",
    "- 피드 해시태그 수집"
   ]
  },
  {
   "cell_type": "code",
   "execution_count": 126,
   "metadata": {},
   "outputs": [],
   "source": [
    "# 피드 클릭\n",
    "click_img = driver.find_element(\n",
    "    By.CSS_SELECTOR,\n",
    "    \"#mount_0_0_3Q > div > div > div > div.x9f619.x1n2onr6.x1ja2u2z > div > div > div.x78zum5.xdt5ytf.x1t2pt76.x1n2onr6.x1ja2u2z.x10cihs4 > div.x9f619.xvbhtw8.x78zum5.x168nmei.x13lgxp2.x5pf9jr.xo71vjh.x1uhb9sk.x1plvlek.xryxfnj.x1c4vz4f.x2lah0s.x1q0g3np.xqjyukv.x1qjc9v5.x1oa3qoh.x1qughib > div.x1gryazu.xh8yej3.x10o80wk.x14k21rp.x17snn68.x6osk4m.x1porb0y.x8vgawa > section > main > div > div.x78zum5.xdt5ytf.xwrv7xz.x1n2onr6.xph46j.xfcsdxf.xsybdxg.x1bzgcud > div > div:nth-child(1) > div:nth-child(1) > div > a > div\",\n",
    ")\n",
    "click_img.click()"
   ]
  },
  {
   "cell_type": "code",
   "execution_count": null,
   "metadata": {},
   "outputs": [],
   "source": [
    "# 피드 글 수집\n",
    "content = driver.find_element(\n",
    "    By.CSS_SELECTOR,\n",
    "    \"body > div.xnkg4db.x1pna77i.x13ywhbb.x1xkblxv.x1n2onr6.xzkaem6 > div.x9f619.x1n2onr6.x1ja2u2z > div > div.x1uvtmcs.x4k7w5x.x1h91t0o.x1beo9mf.xaigb6o.x12ejxvf.x3igimt.xarpa2k.xedcshv.x1lytzrv.x1t2pt76.x7ja8zs.x1n2onr6.x1qrby5j.x1jfb8zj > div > div > div > div > div.xb88tzc.xw2csxc.x1odjw0f.x5fp0pe.x1qjc9v5.xjbqb8w.x1lcm9me.x1yr5g0i.xrt01vj.x10y3i5r.xr1yuqi.xkrivgy.x4ii5y1.x1gryazu.x15h9jz8.x47corl.xh8yej3.xir0mxb.x1juhsu6 > div > article > div > div.x1qjc9v5.x972fbf.xcfux6l.x1qhh985.xm0m39n.x9f619.x78zum5.xdt5ytf.x1iyjqo2.x5wqa0o.xln7xf2.xk390pu.xdj266r.x11i5rnm.xat24cr.x1mh8g0r.x65f84u.x1vq45kp.xexx8yu.x4uap5.x18d9i69.xkhd6sd.x1n2onr6.x11njtxf > div > div > div.x78zum5.xdt5ytf.x1q2y9iw.x1n2onr6.xh8yej3.x9f619.x1iyjqo2.x18l3tf1.x26u7qi.xy80clv.xexx8yu.x4uap5.x18d9i69.xkhd6sd > div.x78zum5.xdt5ytf.x1iyjqo2.xs83m0k.x2lwn1j.x1odjw0f.x1n2onr6.x9ek82g.x6ikm8r.xdj266r.x11i5rnm.x4ii5y1.x1mh8g0r.xexx8yu.x1pi30zi.x18d9i69.x1swvt13 > ul > div.x1qjc9v5.x972fbf.xcfux6l.x1qhh985.xm0m39n.x9f619.x78zum5.xdt5ytf.x2lah0s.xk390pu.xdj266r.x11i5rnm.xat24cr.x1mh8g0r.xexx8yu.x4uap5.x18d9i69.xkhd6sd.x1n2onr6.xggy1nq.x11njtxf > li > div > div > div._a9zr > div._a9zs > h1\",\n",
    ")\n",
    "content.text"
   ]
  },
  {
   "cell_type": "code",
   "execution_count": 128,
   "metadata": {},
   "outputs": [],
   "source": [
    "# 해시 태그 수집\n",
    "hash_list = re.findall(\"#[A-Za-z0-9가-힣]+\", content.text)"
   ]
  },
  {
   "cell_type": "code",
   "execution_count": null,
   "metadata": {},
   "outputs": [],
   "source": [
    "print(hash_list)"
   ]
  },
  {
   "cell_type": "code",
   "execution_count": 87,
   "metadata": {},
   "outputs": [],
   "source": [
    "# 첫번째 화면에서만 작동하는 next_btn\n",
    "next_btn = driver.find_element(\n",
    "    By.CSS_SELECTOR,\n",
    "    \"body > div.xnkg4db.x1pna77i.x13ywhbb.x1xkblxv.x1n2onr6.xzkaem6 > div.x9f619.x1n2onr6.x1ja2u2z > div > div.x1uvtmcs.x4k7w5x.x1h91t0o.x1beo9mf.xaigb6o.x12ejxvf.x3igimt.xarpa2k.xedcshv.x1lytzrv.x1t2pt76.x7ja8zs.x1n2onr6.x1qrby5j.x1jfb8zj > div > div > div > div > div:nth-child(1) > div > div > div > button\",\n",
    ")\n",
    "next_btn.click()"
   ]
  },
  {
   "cell_type": "code",
   "execution_count": null,
   "metadata": {},
   "outputs": [],
   "source": [
    "# 두번째 화면에서 작동하는 next_btn\n",
    "next2_btn = driver.find_element(\n",
    "    By.CSS_SELECTOR,\n",
    "    \"body > div.xnkg4db.x1pna77i.x13ywhbb.x1xkblxv.x1n2onr6.xzkaem6 > div.x9f619.x1n2onr6.x1ja2u2z > div > div.x1uvtmcs.x4k7w5x.x1h91t0o.x1beo9mf.xaigb6o.x12ejxvf.x3igimt.xarpa2k.xedcshv.x1lytzrv.x1t2pt76.x7ja8zs.x1n2onr6.x1qrby5j.x1jfb8zj > div > div > div > div > div:nth-child(1) > div > div > div._aaqg._aaqh > button\",\n",
    ")\n",
    "next2_btn.click()"
   ]
  },
  {
   "cell_type": "markdown",
   "metadata": {},
   "source": [
    "# 반복문 코드"
   ]
  },
  {
   "cell_type": "code",
   "execution_count": null,
   "metadata": {},
   "outputs": [],
   "source": [
    "from selenium import webdriver as wb\n",
    "from selenium.webdriver.common.keys import Keys\n",
    "import time\n",
    "import os\n",
    "from urllib.request import urlretrieve\n",
    "import re\n",
    "from selenium.webdriver.common.by import By\n",
    "import pandas as pd\n",
    "\n",
    "driver = wb.Chrome()\n",
    "driver.get(\"https://www.instagram.com/\")\n",
    "\n",
    "# 아이디 입력하는 방법\n",
    "input_id = driver.find_element(\n",
    "    By.CSS_SELECTOR, \"#loginForm > div > div:nth-child(1) > div > label > input\"\n",
    ")\n",
    "input_id.send_keys(\"인스타 계정(id)\")\n",
    "\n",
    "# 패스워드 입력 하는 방법\n",
    "input_pw = driver.find_element(\n",
    "    By.CSS_SELECTOR, \"#loginForm > div > div:nth-child(2) > div > label > input\"\n",
    ")\n",
    "input_pw.send_keys(\"password\")\n",
    "\n",
    "# 로그인 버튼 클릭\n",
    "login_btn = driver.find_element(\n",
    "    By.CSS_SELECTOR, \"#loginForm > div > div:nth-child(3) > button > div\"\n",
    ")\n",
    "login_btn.click()\n",
    "\n",
    "# 로그인 저장 하기 버튼 클릭\n",
    "save_login_btn = driver.find_element(By.CSS_SELECTOR, \".x78zum5.xdt5ytf.x1e56ztr\")\n",
    "save_login_btn.click()\n",
    "\n",
    "# 알림설정 나중에\n",
    "notice_btn = driver.find_element(\n",
    "    By.CSS_SELECTOR,\n",
    "    \"body > div.xnkg4db.x1pna77i.x13ywhbb.x1xkblxv.x1n2onr6.xzkaem6 > div.x9f619.x1n2onr6.x1ja2u2z > div > div.x1uvtmcs.x4k7w5x.x1h91t0o.x1beo9mf.xaigb6o.x12ejxvf.x3igimt.xarpa2k.xedcshv.x1lytzrv.x1t2pt76.x7ja8zs.x1n2onr6.x1qrby5j.x1jfb8zj > div > div > div > div > div.x7r02ix.xf1ldfh.x131esax.xdajt7p.xxfnqb6.xb88tzc.xw2csxc.x1odjw0f.x5fp0pe > div > div > div._a9-z > button._a9--._ap36._a9_1\",\n",
    ")\n",
    "notice_btn.click()\n",
    "\n",
    "# 검색버튼의 위치를 클릭\n",
    "\n",
    "search_click = driver.find_element(\n",
    "    By.CSS_SELECTOR,\n",
    "    \"#mount_0_0_V4 > div > div > div > div.x9f619.x1n2onr6.x1ja2u2z > div > div > div.x78zum5.xdt5ytf.x1t2pt76.x1n2onr6.x1ja2u2z.x10cihs4 > div.x9f619.xvbhtw8.x78zum5.x168nmei.x13lgxp2.x5pf9jr.xo71vjh.x1uhb9sk.x1plvlek.xryxfnj.x1c4vz4f.x2lah0s.xdt5ytf.xqjyukv.x1qjc9v5.x1oa3qoh.x1qughib > div.x1gryazu.xh8yej3.x10o80wk.x14k21rp.x17snn68.x6osk4m.x1porb0y.x8vgawa > section > nav > div > header > div > div > div.xq8finb > div > div > div > div > div > div\",\n",
    ")\n",
    "search_click.click()\n",
    "\n",
    "\n",
    "# 검색창에 해시태그 입력\n",
    "search_input = driver.find_element(\n",
    "    By.CSS_SELECTOR,\n",
    "    \"#mount_0_0_V4 > div > div > div > div.x9f619.x1n2onr6.x1ja2u2z > div > div > div.x78zum5.xdt5ytf.x1t2pt76.x1n2onr6.x1ja2u2z.x10cihs4 > div.x9f619.xvbhtw8.x78zum5.x168nmei.x13lgxp2.x5pf9jr.xo71vjh.x1uhb9sk.x1plvlek.xryxfnj.x1c4vz4f.x2lah0s.xdt5ytf.xqjyukv.x1qjc9v5.x1oa3qoh.x1qughib > div.x1gryazu.xh8yej3.x10o80wk.x14k21rp.x17snn68.x6osk4m.x1porb0y.x8vgawa > section > nav > div > header > div > div > div.xq8finb > div > div > div > div > div > input\",\n",
    ")\n",
    "search_input.send_keys(\"검색어입력\")\n",
    "\n",
    "# 검색 상단에 등장한 내용을 클릭\n",
    "search_result = driver.find_element(\n",
    "    By.CSS_SELECTOR,\n",
    "    \"#mount_0_0_V4 > div > div > div > div.x9f619.x1n2onr6.x1ja2u2z > div > div > div.x78zum5.xdt5ytf.x1t2pt76.x1n2onr6.x1ja2u2z.x10cihs4 > div.x9f619.xvbhtw8.x78zum5.x168nmei.x13lgxp2.x5pf9jr.xo71vjh.x1uhb9sk.x1plvlek.xryxfnj.x1c4vz4f.x2lah0s.xdt5ytf.xqjyukv.x1qjc9v5.x1oa3qoh.x1qughib > div.x1gryazu.xh8yej3.x10o80wk.x14k21rp.x17snn68.x6osk4m.x1porb0y.x8vgawa > section > nav > div > header > div > div > div.xq8finb > div > div > div > div > div > div.x10l6tqk.x1ym02ve.x1vjfegm > div > div > div > div > div > div > a:nth-child(1) > div.x9f619.xjbqb8w.x78zum5.x168nmei.x13lgxp2.x5pf9jr.xo71vjh.x1pi30zi.x1swvt13.xwib8y2.x1y1aw1k.x1uhb9sk.x1plvlek.xryxfnj.x1c4vz4f.x2lah0s.xdt5ytf.xqjyukv.x1qjc9v5.x1oa3qoh.x1nhvcw1 > div > div > div.x9f619.x1ja2u2z.x78zum5.x1n2onr6.x1iyjqo2.xs83m0k.xeuugli.x1qughib.x6s0dn4.x1a02dak.x1q0g3np.xdl72j9 > div > div > div > span\",\n",
    ")\n",
    "search_result.click()\n",
    "\n",
    "\n",
    "# 리스트를 저장할 공간\n",
    "contents = []\n",
    "hashtags = []\n",
    "\n",
    "# 피드 클릭\n",
    "click_img = driver.find_element(\n",
    "    By.CSS_SELECTOR,\n",
    "    \"#mount_0_0_3Q > div > div > div > div.x9f619.x1n2onr6.x1ja2u2z > div > div > div.x78zum5.xdt5ytf.x1t2pt76.x1n2onr6.x1ja2u2z.x10cihs4 > div.x9f619.xvbhtw8.x78zum5.x168nmei.x13lgxp2.x5pf9jr.xo71vjh.x1uhb9sk.x1plvlek.xryxfnj.x1c4vz4f.x2lah0s.x1q0g3np.xqjyukv.x1qjc9v5.x1oa3qoh.x1qughib > div.x1gryazu.xh8yej3.x10o80wk.x14k21rp.x17snn68.x6osk4m.x1porb0y.x8vgawa > section > main > div > div.x78zum5.xdt5ytf.xwrv7xz.x1n2onr6.xph46j.xfcsdxf.xsybdxg.x1bzgcud > div > div > div\",\n",
    ")\n",
    "click_img.click()\n",
    "\n",
    "\n",
    "# 크롤링 반복문\n",
    "for i in range(len(img)):  # len(img)\n",
    "    try:\n",
    "        # 피드 글 수집\n",
    "        content_element = driver.find_element(\n",
    "            By.CSS_SELECTOR,\n",
    "            \"body > div.xnkg4db.x1pna77i.x13ywhbb.x1xkblxv.x1n2onr6.xzkaem6 > div.x9f619.x1n2onr6.x1ja2u2z > div > div.x1uvtmcs.x4k7w5x.x1h91t0o.x1beo9mf.xaigb6o.x12ejxvf.x3igimt.xarpa2k.xedcshv.x1lytzrv.x1t2pt76.x7ja8zs.x1n2onr6.x1qrby5j.x1jfb8zj > div > div > div > div > div.xb88tzc.xw2csxc.x1odjw0f.x5fp0pe.x1qjc9v5.xjbqb8w.x1lcm9me.x1yr5g0i.xrt01vj.x10y3i5r.xr1yuqi.xkrivgy.x4ii5y1.x1gryazu.x15h9jz8.x47corl.xh8yej3.xir0mxb.x1juhsu6 > div > article > div > div.x1qjc9v5.x972fbf.xcfux6l.x1qhh985.xm0m39n.x9f619.x78zum5.xdt5ytf.x1iyjqo2.x5wqa0o.xln7xf2.xk390pu.xdj266r.x11i5rnm.xat24cr.x1mh8g0r.x65f84u.x1vq45kp.xexx8yu.x4uap5.x18d9i69.xkhd6sd.x1n2onr6.x11njtxf > div > div > div.x78zum5.xdt5ytf.x1q2y9iw.x1n2onr6.xh8yej3.x9f619.x1iyjqo2.x18l3tf1.x26u7qi.xy80clv.xexx8yu.x4uap5.x18d9i69.xkhd6sd > div.x78zum5.xdt5ytf.x1iyjqo2.xs83m0k.x2lwn1j.x1odjw0f.x1n2onr6.x9ek82g.x6ikm8r.xdj266r.x11i5rnm.x4ii5y1.x1mh8g0r.xexx8yu.x1pi30zi.x18d9i69.x1swvt13 > ul > div.x1qjc9v5.x972fbf.xcfux6l.x1qhh985.xm0m39n.x9f619.x78zum5.xdt5ytf.x2lah0s.xk390pu.xdj266r.x11i5rnm.xat24cr.x1mh8g0r.xexx8yu.x4uap5.x18d9i69.xkhd6sd.x1n2onr6.xggy1nq.x11njtxf > li > div > div > div._a9zr > div._a9zs > h1\",\n",
    "        )\n",
    "        content_text = content_element.text\n",
    "        contents.append(content_text)\n",
    "\n",
    "        # 해시태그 수집\n",
    "        hash_list = re.findall(r\"#[A-Za-z0-9가-힣]+\", content_text)\n",
    "        hashtags.append(\", \".join(hash_list))\n",
    "\n",
    "        # 출력 포맷\n",
    "        print(f\"content[{i}]: {content_text}\")\n",
    "        print(f\"hashtag[{i}]: {', '.join(hash_list)}\")\n",
    "\n",
    "        # 다음 버튼 클릭 (첫 화면과 그 이후 화면의 next 버튼이 다를 수 있음)\n",
    "        if i == 0:\n",
    "            next_btn = driver.find_element(\n",
    "                By.CSS_SELECTOR,\n",
    "                \"body > div.xnkg4db.x1pna77i.x13ywhbb.x1xkblxv.x1n2onr6.xzkaem6 > div.x9f619.x1n2onr6.x1ja2u2z > div > div.x1uvtmcs.x4k7w5x.x1h91t0o.x1beo9mf.xaigb6o.x12ejxvf.x3igimt.xarpa2k.xedcshv.x1lytzrv.x1t2pt76.x7ja8zs.x1n2onr6.x1qrby5j.x1jfb8zj > div > div > div > div > div:nth-child(1) > div > div > div > button\",\n",
    "            )\n",
    "            next_btn.click()\n",
    "        else:\n",
    "            next2_btn = driver.find_element(\n",
    "                By.CSS_SELECTOR,\n",
    "                \"body > div.xnkg4db.x1pna77i.x13ywhbb.x1xkblxv.x1n2onr6.xzkaem6 > div.x9f619.x1n2onr6.x1ja2u2z > div > div.x1uvtmcs.x4k7w5x.x1h91t0o.x1beo9mf.xaigb6o.x12ejxvf.x3igimt.xarpa2k.xedcshv.x1lytzrv.x1t2pt76.x7ja8zs.x1n2onr6.x1qrby5j.x1jfb8zj > div > div > div > div > div:nth-child(1) > div > div > div._aaqg._aaqh > button\",\n",
    "            )\n",
    "            next2_btn.click()\n",
    "\n",
    "        time.sleep(2)  # 페이지가 로드될 시간을 주기 위해 잠시 대기\n",
    "    except Exception as e:\n",
    "        print(f\"Error occurred while scraping post {i}: {e}\")\n",
    "        break\n",
    "\n",
    "# DataFrame 생성\n",
    "df = pd.DataFrame({\"content\": contents, \"hashtag\": hashtags})\n",
    "\n",
    "# exel로 저장\n",
    "df.to_excel(\n",
    "    excel_writer=r\"저장할 경로\",\n",
    "    sheet_name=\"저장할 파일명\",\n",
    ")\n",
    "print(df)"
   ]
  },
  {
   "cell_type": "code",
   "execution_count": 166,
   "metadata": {},
   "outputs": [],
   "source": [
    "df.to_excel(\n",
    "    excel_writer=r\"C:\\Users\\prodk\\OneDrive\\문서\\git\\instagram-crawler\\insta_vivid.xlsx\",\n",
    "    sheet_name=\"content_hashtag\",\n",
    ")"
   ]
  }
 ],
 "metadata": {
  "kernelspec": {
   "display_name": "langchain-kr-8AbNpS-V-py3.11",
   "language": "python",
   "name": "python3"
  },
  "language_info": {
   "codemirror_mode": {
    "name": "ipython",
    "version": 3
   },
   "file_extension": ".py",
   "mimetype": "text/x-python",
   "name": "python",
   "nbconvert_exporter": "python",
   "pygments_lexer": "ipython3",
   "version": "3.11.7"
  }
 },
 "nbformat": 4,
 "nbformat_minor": 2
}
